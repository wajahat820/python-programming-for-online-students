{
 "cells": [
  {
   "cell_type": "markdown",
   "metadata": {},
   "source": [
    "# Q#1 Define OOP?\n",
    "\n"
   ]
  },
  {
   "cell_type": "markdown",
   "metadata": {},
   "source": [
    "Object-oriented programming (OOP) is a programming language model in which programs are organized around data, or objects, rather than functions and logic. An object can be defined as a data field that has unique attributes and behavior.\n",
    "Principles of OOP:-\n",
    "Object-oriented programming is based on the following principles:\n",
    "\n",
    "Encapsulation- \n",
    "The implementation and state of each object are privately held inside a defined boundary, or class. Other objects do not have access to this class or the authority to make changes but are only able to call a list of public functions, or methods. This characteristic of data hiding provides greater program security and avoids unintended data corruption.\n",
    "\n",
    "Abstraction- \n",
    "Objects only reveal internal mechanisms that are relevant for the use of other objects, hiding any unnecessary implementation code. This concept helps developers make changes and additions over time more easily.\n",
    "\n",
    "Inheritance- \n",
    "Relationships and subclasses between objects can be assigned, allowing developers to reuse a common logic while still maintaining a unique hierarchy. This property of OOP forces a more thorough data analysis, reduces development time and ensures a higher level of accuracy.\n",
    "\n",
    "Polymorphism- \n",
    "Objects are allowed to take on more than one form depending on the context. The program will determine which meaning or usage is necessary for each execution of that object, cutting down on the need to duplicate code."
   ]
  },
  {
   "cell_type": "markdown",
   "metadata": {},
   "source": [
    "# Q#2 Advantages of OOP"
   ]
  },
  {
   "cell_type": "markdown",
   "metadata": {},
   "source": [
    "Let’s see what are the advantages of OOP offers to its users.\n",
    "\n",
    "1. Re-usability\n",
    "It means reusing some facilities rather than building it again and again. This is done with the use of a class. We can use it ‘n’ number of times as per our need.\n",
    "\n",
    "2. Data Redundancy\n",
    "This is a condition created at the place of data storage (you can say Databases)where the same piece of data is held in two separate places. So the data redundancy is one of the greatest advantages of OOP. If a user wants a similar functionality in multiple classes he/she can go ahead by writing common class definitions for the similar functionalities and inherit them.\n",
    "\n",
    "3. Code Maintenance\n",
    "This feature is more of a necessity for any programming languages, it helps users from doing re-work in many ways. It is always easy and time-saving to maintain and modify the existing codes with incorporating new changes into it.\n",
    "\n",
    "4. Security\n",
    "With the use of data hiding and abstraction mechanism, we are filtering out limited data to exposure which means we are maintaining security and providing necessary data to view."
   ]
  },
  {
   "cell_type": "markdown",
   "metadata": {},
   "source": [
    "# Q#3 Function VS Method"
   ]
  },
  {
   "cell_type": "markdown",
   "metadata": {},
   "source": [
    "Function-\n",
    "if we have to use a task again and again we write that task in a function and call it when we need it.\n",
    "we can pass arguments when calling a funtion if it takes parameters .\n",
    "in function you have to pass class attributes as parameters else you can use them in function.\n",
    "\n",
    "Method-\n",
    "Methods are same as functions there are very few differece in methods and functions which are:\n",
    "methods are written in the scope of class.\n",
    "methods take \"self\" as first parameter , then you know that its a method.\n",
    "self in method takes all the attributes which are defined in class and u can use the attributes in method using self keyword ."
   ]
  },
  {
   "cell_type": "markdown",
   "metadata": {},
   "source": [
    "# Q#4 Define Class, Object, Attribute and Behavior"
   ]
  },
  {
   "cell_type": "markdown",
   "metadata": {},
   "source": [
    "Class-\n",
    "A class is an entity that determines how an object will behave and what the object will contain. In other words, it is a blueprint or a set of instruction to build a specific type of object.\n",
    "\n",
    "Object-\n",
    "An object is nothing but a self-contained component which consists of methods and properties to make a particular type of data useful. Object determines the behavior of the class. When you send a message to an object, you are asking the object to invoke or execute one of its methods.\n",
    "\n",
    "Attribute-\n",
    "In Object-oriented programming(OOP), classes and objects have attributes. Attributes are data stored inside a class or instance and represent the state or quality of the class or instance. In short, attributes store information about the instance.\n",
    "\n",
    "Behavior-\n",
    "A class's behavior determines how an instance of that class operates; for example, how it will \"react\" if asked to do something by another class or object or if its internal state changes. Behavior is the only way objects can do anything to themselves or have anything done to them."
   ]
  },
  {
   "cell_type": "markdown",
   "metadata": {},
   "source": [
    "# Q#5"
   ]
  },
  {
   "cell_type": "code",
   "execution_count": 4,
   "metadata": {},
   "outputs": [
    {
     "name": "stdout",
     "output_type": "stream",
     "text": [
      "this car name is :  Corolla\n",
      "Suzuki\n",
      "Xayz-212\n"
     ]
    }
   ],
   "source": [
    "class Car:\n",
    " \n",
    "    def __init__(self,model,color,name,company,number):\n",
    "        self.model=model\n",
    "        self.color=color\n",
    "        self.name=name\n",
    "        self.company=company\n",
    "        self.number=number\n",
    "        \n",
    "    def print_name(self):\n",
    "        print(\"this car name is : \",self.name)\n",
    "            \n",
    "    def print_UPdatecompany(self):\n",
    "        self.company=\"Suzuki\"\n",
    "        print(self.company)\n",
    "            \n",
    "    def print_number(self):\n",
    "        print(self.number)\n",
    "            \n",
    "car1=Car('2019','Black','Corolla','Toyota','Abx-2132')\n",
    "car2=Car('2018','white','VIGO','Toyota','Xayz-212')\n",
    "car3=Car('2017','Red','land Cruiser','Toyota','cda-132')\n",
    "car4=Car('2016','Blue','Civic','Honda','zzw-32')\n",
    "car5=Car('2015','mate Black','City','Honda','Ax-22')\n",
    "\n",
    "\n",
    "\n",
    "car1.print_name()\n",
    "car2.print_UPdatecompany()\n",
    "car2.print_number()"
   ]
  },
  {
   "cell_type": "code",
   "execution_count": null,
   "metadata": {},
   "outputs": [],
   "source": []
  }
 ],
 "metadata": {
  "kernelspec": {
   "display_name": "Python 3",
   "language": "python",
   "name": "python3"
  },
  "language_info": {
   "codemirror_mode": {
    "name": "ipython",
    "version": 3
   },
   "file_extension": ".py",
   "mimetype": "text/x-python",
   "name": "python",
   "nbconvert_exporter": "python",
   "pygments_lexer": "ipython3",
   "version": "3.7.4"
  }
 },
 "nbformat": 4,
 "nbformat_minor": 2
}
