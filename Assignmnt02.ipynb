{
 "cells": [
  {
   "cell_type": "code",
   "execution_count": 8,
   "metadata": {},
   "outputs": [
    {
     "name": "stdout",
     "output_type": "stream",
     "text": [
      "Enter the marks of the first sujects:89\n",
      "Enter the marks of the second sujects:89\n",
      "Enter the marks of the third sujects:98\n",
      "Enter the marks of the fourth sujects:90\n",
      "Enter the marks of the fifth sujects:78\n",
      "Total number : 444\n",
      "Total percntage: 88.8\n",
      "Grade: A+\n"
     ]
    }
   ],
   "source": [
    "sub1 = int(input(\"Enter the marks of the first sujects:\"))\n",
    "sub2 = int(input(\"Enter the marks of the second sujects:\"))\n",
    "sub3 = int(input(\"Enter the marks of the third sujects:\"))\n",
    "sub4 = int(input(\"Enter the marks of the fourth sujects:\"))\n",
    "sub5 = int(input(\"Enter the marks of the fifth sujects:\"))\n",
    "\n",
    "total = sub1+sub2+sub3+sub4+sub5\n",
    "avg = (total/500)*100\n",
    "\n",
    "print(\"Total number :\", total)\n",
    "print(\"Total percntage:\",avg)\n",
    "if ( avg >= 90 ):\n",
    "    print(\"Grade: A++\")\n",
    "elif ( avg >= 80 and avg <90 ):\n",
    "    print(\"Grade: A+\")\n",
    "elif ( avg >= 70 and avg <80 ):\n",
    "    print(\"Grade: A\")\n",
    "elif ( avg >= 60 and avg <70 ):\n",
    "    print(\"Grade: B\")\n",
    "elif ( avg >= 50 and avg <60 ):\n",
    "    print(\"Grade: C\")\n",
    "else:\n",
    "    print(\"Grade:F\")"
   ]
  },
  {
   "cell_type": "code",
   "execution_count": 10,
   "metadata": {},
   "outputs": [
    {
     "name": "stdout",
     "output_type": "stream",
     "text": [
      "the maximum number of list is : 87\n"
     ]
    }
   ],
   "source": [
    "number = [22,33,45,65,76,78,87]\n",
    "print(\"the maximum number of list is :\", max(number))"
   ]
  },
  {
   "cell_type": "code",
   "execution_count": 45,
   "metadata": {},
   "outputs": [
    {
     "ename": "SyntaxError",
     "evalue": "invalid syntax (<ipython-input-45-0a3b5d4a2d20>, line 2)",
     "output_type": "error",
     "traceback": [
      "\u001b[1;36m  File \u001b[1;32m\"<ipython-input-45-0a3b5d4a2d20>\"\u001b[1;36m, line \u001b[1;32m2\u001b[0m\n\u001b[1;33m    for number a:\u001b[0m\n\u001b[1;37m               ^\u001b[0m\n\u001b[1;31mSyntaxError\u001b[0m\u001b[1;31m:\u001b[0m invalid syntax\n"
     ]
    }
   ],
   "source": [
    "a = [1,1,2,3,5,6,7,8,91,11]\n",
    "for number a:\n",
    "    if number <5:\n",
    "        print(number)"
   ]
  },
  {
   "cell_type": "code",
   "execution_count": 33,
   "metadata": {},
   "outputs": [
    {
     "name": "stdout",
     "output_type": "stream",
     "text": [
      "Enter a number:2\n",
      "numer is even\n"
     ]
    }
   ],
   "source": [
    "number = int(input(\"Enter a number:\"))\n",
    "if(number % 2 == 0):\n",
    "    print(\"numer is even\")\n",
    "else :\n",
    "    print(\"number is odd\")"
   ]
  },
  {
   "cell_type": "code",
   "execution_count": 34,
   "metadata": {},
   "outputs": [
    {
     "name": "stdout",
     "output_type": "stream",
     "text": [
      "the length of the list is : 7\n"
     ]
    }
   ],
   "source": [
    "number = [22,33,45,65,76,78,87]\n",
    "print(\"the length of the list is :\",len(number))"
   ]
  },
  {
   "cell_type": "code",
   "execution_count": 35,
   "metadata": {},
   "outputs": [
    {
     "name": "stdout",
     "output_type": "stream",
     "text": [
      "the maximum number of the list is : 406\n"
     ]
    }
   ],
   "source": [
    "number = [22,33,45,65,76,78,87]\n",
    "print(\"the maximum number of the list is :\",sum(number))"
   ]
  },
  {
   "cell_type": "code",
   "execution_count": 36,
   "metadata": {},
   "outputs": [
    {
     "name": "stdout",
     "output_type": "stream",
     "text": [
      "the maximum number of the list is : 87\n"
     ]
    }
   ],
   "source": []
  },
  {
   "cell_type": "code",
   "execution_count": null,
   "metadata": {},
   "outputs": [],
   "source": []
  }
 ],
 "metadata": {
  "kernelspec": {
   "display_name": "Python 3",
   "language": "python",
   "name": "python3"
  },
  "language_info": {
   "codemirror_mode": {
    "name": "ipython",
    "version": 3
   },
   "file_extension": ".py",
   "mimetype": "text/x-python",
   "name": "python",
   "nbconvert_exporter": "python",
   "pygments_lexer": "ipython3",
   "version": "3.7.4"
  }
 },
 "nbformat": 4,
 "nbformat_minor": 2
}
