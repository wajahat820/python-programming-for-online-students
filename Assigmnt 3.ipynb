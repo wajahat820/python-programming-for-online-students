{
 "cells": [
  {
   "cell_type": "code",
   "execution_count": null,
   "metadata": {},
   "outputs": [
    {
     "name": "stdout",
     "output_type": "stream",
     "text": [
      "Enter a first Number:8\n",
      "Enter a second Number:8\n"
     ]
    }
   ],
   "source": [
    "a = int(input(\"Enter a first Number:\"))\n",
    "b = int(input(\"Enter a second Number:\"))\n",
    "operator = input(\"Enter operator:\")\n",
    "\n",
    "if operater == \"*\":\n",
    "    print(a*b)\n",
    "elif operater == '+':\n",
    "    print(a+b)\n",
    "elif operater == \"-\":\n",
    "    print(a-b)\n",
    "elif operater == \"/\":\n",
    "    print(a/b)\n",
    "elif operater == \"p\":\n",
    "    print(a**b)        "
   ]
  },
  {
   "cell_type": "code",
   "execution_count": null,
   "metadata": {},
   "outputs": [],
   "source": [
    "arr = [12,\"afg\",\"aus\",\"india\",13]\n",
    "for aa in arr :\n",
    "    if type(aa) == int or type\n",
    "    (aa) == float:\n",
    "        print(f\"numeric value is found = {aa} At index={arr.index(aa)}\")"
   ]
  },
  {
   "cell_type": "code",
   "execution_count": null,
   "metadata": {},
   "outputs": [],
   "source": [
    "dtio = {\"firstName\":\"muhammad\",\"lastname\":\"Aslam\"}\n",
    "print(dtio)\n",
    "dtio.update({\"mid\":\"lol\"})\n",
    "print(dtio)"
   ]
  },
  {
   "cell_type": "code",
   "execution_count": null,
   "metadata": {},
   "outputs": [],
   "source": [
    "def sumdic(dtio)\n",
    "sum = 0\n",
    "for i in dtio.values():\n",
    "    sum = sum + i\n",
    "    return sum\n",
    "ndtio = {o:12 , 1:41 , 5:21}\n",
    "print(\"sum:\",sumdic(ndtio))"
   ]
  },
  {
   "cell_type": "code",
   "execution_count": null,
   "metadata": {},
   "outputs": [],
   "source": [
    "last1 = [12,\"afg\",\"aus\",\"india\",13]\n",
    "def dup(last):\n",
    "    last1dup = []\n",
    "    for val in last:\n",
    "        if val nnot in last1dup:\n",
    "            last1dup.append(val)\n",
    "elif val in last1dup:\n",
    "    print(\"duplicate value is found\",val)\n",
    "    return last1dup\n",
    "print(dup(last1))"
   ]
  },
  {
   "cell_type": "code",
   "execution_count": null,
   "metadata": {},
   "outputs": [],
   "source": [
    "dic = {\n",
    "    1:30,\n",
    "    2:34,\n",
    "    4:45,\n",
    "    5:34,\n",
    "    6:65,\n",
    "    7:65}\n",
    "def is_key_present(x):\n",
    "    if x in dic:\n",
    "        print(\"key is present in the dictionary\")\n",
    "        else:\n",
    "            print(\"key is not present in the dictionary\")"
   ]
  },
  {
   "cell_type": "code",
   "execution_count": null,
   "metadata": {},
   "outputs": [],
   "source": []
  },
  {
   "cell_type": "code",
   "execution_count": null,
   "metadata": {},
   "outputs": [],
   "source": []
  },
  {
   "cell_type": "code",
   "execution_count": null,
   "metadata": {},
   "outputs": [],
   "source": []
  }
 ],
 "metadata": {
  "kernelspec": {
   "display_name": "Python 3",
   "language": "python",
   "name": "python3"
  },
  "language_info": {
   "codemirror_mode": {
    "name": "ipython",
    "version": 3
   },
   "file_extension": ".py",
   "mimetype": "text/x-python",
   "name": "python",
   "nbconvert_exporter": "python",
   "pygments_lexer": "ipython3",
   "version": "3.7.4"
  }
 },
 "nbformat": 4,
 "nbformat_minor": 2
}
