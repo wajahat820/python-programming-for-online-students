{
 "cells": [
  {
   "cell_type": "code",
   "execution_count": 2,
   "metadata": {},
   "outputs": [
    {
     "name": "stdout",
     "output_type": "stream",
     "text": [
      "Below mentioned existing dictionary\n",
      "-----------------------------------------\n",
      "\n",
      "First_name : Faizan\n",
      "Last_name : Tahir\n",
      "Age : 25\n",
      "City : karachi\n",
      "\n",
      "Added new key with value in dictionary from update function\n",
      "-----------------------------------------\n",
      "First_name : Faizan\n",
      "Last_name : Tahir\n",
      "Age : 25\n",
      "City : karachi\n",
      "qualification : intermedaite\n",
      "\n",
      "Updating the value of qualification key in dictionary\n",
      "-----------------------------------------\n",
      "\n",
      "Currently the value of qualification is intermedaite\n",
      "\n",
      "\t HERE IS THE UPDATED DICTIONARY WITH UPDATED VALUES OF QUALIFICATION.\n",
      "\n",
      "First_name : Faizan\n",
      "Last_name : Tahir\n",
      "Age : 25\n",
      "City : karachi\n",
      "qualification : B.COM\n",
      "\n",
      "\t DELETED THE KEY OF QUALIFICATION AND BELOW MENTIONED\n",
      "\n",
      "First_name : Faizan\n",
      "Last_name : Tahir\n",
      "Age : 25\n",
      "City : karachi\n"
     ]
    }
   ],
   "source": [
    "persons ={\n",
    "    \n",
    "    \"First_name\":\"Faizan\",\n",
    "    \"Last_name\":\"Tahir\",\n",
    "    \"Age\":\"25\",\n",
    "    \"City\":\"karachi\"\n",
    "}\n",
    "\n",
    "def print_dic_values_and_key(dicti_name):\n",
    "    for keys,values in dicti_name.items():\n",
    "        print(keys + \" : \" +values)\n",
    "# Printing type for check type of data \n",
    "#print(type(person))\n",
    "print(\"Below mentioned existing dictionary\\n-----------------------------------------\\n\")  \n",
    "print_dic_values_and_key(persons)  \n",
    "print(\"\\nAdded new key with value in dictionary from update function\\n-----------------------------------------\")\n",
    "persons.update({\"qualification\":\"intermedaite\"})\n",
    "print_dic_values_and_key(persons) \n",
    "print(\"\\nUpdating the value of qualification key in dictionary\\n-----------------------------------------\\n\")\n",
    "print(\"Currently the value of qualification is \"+  persons['qualification'])\n",
    "persons['qualification'] = \"B.COM\"\n",
    "print(\"\\n\\t HERE IS THE UPDATED DICTIONARY WITH UPDATED VALUES OF QUALIFICATION.\\n\")\n",
    "print_dic_values_and_key(persons) \n",
    "del persons['qualification']\n",
    "\n",
    "print(\"\\n\\t DELETED THE KEY OF QUALIFICATION AND BELOW MENTIONED\\n\")\n",
    "\n",
    "print_dic_values_and_key(persons)\n"
   ]
  },
  {
   "cell_type": "code",
   "execution_count": 3,
   "metadata": {},
   "outputs": [
    {
     "name": "stdout",
     "output_type": "stream",
     "text": [
      "Currently we have 3 cities database which is below mentioned \n",
      "\n",
      "Bangkok\n",
      "London\n",
      "Paris\n",
      "\n",
      "Enter above mentioned city name to fetch data from  Paris\n",
      "Paris : {'country': 'France', 'population': '2.141 million', 'fact': 'Paris was originally a Roman City called “Lutetia.', 'Most Visited ': '17.44 million'}\n"
     ]
    }
   ],
   "source": [
    "cities = {\n",
    "    \"Bangkok\": {\n",
    "        \"country\":\"Thailand\",\n",
    "        \"population\": \"8.281\",\n",
    "        \"fact\": \"Bangkok has the longest city name in the World.\",\n",
    "        \"Most Visited \":\"20.05 million\"\n",
    "        },\n",
    "    \n",
    "    \"London\": {\n",
    "        \"country\":\"Capital of England\",\n",
    "        \"population\": \"8.9 million\",\n",
    "        \"fact\": \"Big Ben Is Not The Name For The Tower\",\n",
    "        \"Most Visited \":\"19.83 million\"\n",
    "        },\n",
    "    \n",
    "    \"Paris\": {\n",
    "        \"country\":\"France\",\n",
    "        \"population\": \"2.141 million\",\n",
    "        \"fact\": \"Paris was originally a Roman City called “Lutetia.\",\n",
    "        \"Most Visited \":\"17.44 million\"\n",
    "        \n",
    "        }\n",
    "}\n",
    "print(\"Currently we have 3 cities database which is below mentioned \\n\")\n",
    "for cities_name in cities.keys():\n",
    "    print(cities_name)\n",
    "city =input(\"\\nEnter above mentioned city name to fetch data from  \")\n",
    "flag = False\n",
    "for city_key,city_val in cities.items():\n",
    "    if city_key == city:\n",
    "        flag = True\n",
    "        break\n",
    "if(flag):\n",
    "    print(str(city_key) + \" : \" + str(city_val) )\n",
    "else:\n",
    "    print(\"Right Now we dont have that country.\")\n",
    "\n"
   ]
  },
  {
   "cell_type": "code",
   "execution_count": 4,
   "metadata": {},
   "outputs": [
    {
     "name": "stdout",
     "output_type": "stream",
     "text": [
      "Welcome to online ticket booking system\n",
      "--------------------------------\n",
      "\n",
      "We have different prices of tickets according your age\n",
      "\n",
      "Please enter Your Age 20\n",
      " \n",
      "Your Ticket price is $15.\n"
     ]
    }
   ],
   "source": [
    "print(\"Welcome to online ticket booking system\\n--------------------------------\\n\\nWe have different prices of tickets according your age\")\n",
    "age = int(input(\"\\nPlease enter Your Age \"))\n",
    "for i in range(0,3):\n",
    "    if age <= 3:\n",
    "        print(\" \\nYour Ticket is Free.\")\n",
    "        break\n",
    "    elif age <= 12 and age >= 3:\n",
    "        print(\" \\nYour Ticket price is 10$.\")\n",
    "        break        \n",
    "    elif age >= 12:\n",
    "        print(\" \\nYour Ticket price is $15.\")\n",
    "        break\n"
   ]
  },
  {
   "cell_type": "code",
   "execution_count": 5,
   "metadata": {},
   "outputs": [
    {
     "name": "stdout",
     "output_type": "stream",
     "text": [
      "Welcome to Read Online Books\n",
      "--------------------------------------------\n",
      "\n",
      "Enter Your Book Name = Lolita\n",
      "\n",
      "Thanks for your input here is the details of your provided book name\n",
      "----------------------------------------------\n",
      "\n",
      "Lolita {'Author': 'Vladimir Nabokov', 'Publisher': 'Olympia Press', 'Publication date': '1955', 'Total Pages ': '336'}\n"
     ]
    }
   ],
   "source": [
    "print(\"Welcome to Read Online Books\\n--------------------------------------------\\n\")\n",
    "book_details = {\n",
    "    \"Ulysses\": \n",
    "    {\n",
    "        \"Author\":\"James Joyce\",\n",
    "        \"Publisher\": \"Sylvia Beach\",\n",
    "        \"Publication date\": \"2 February 1922.\",\n",
    "        \"Total Pages \":\"730\"\n",
    "    },\n",
    "    \"Don Quixote\": \n",
    "    {\n",
    "        \"Author\":\"Miguel de Cervantes\",\n",
    "        \"Publisher\": \"Francisco de Robles\",\n",
    "        \"Publication date\": \"1605 (Part One) 1615 (Part Two)\",\n",
    "        \"Total Pages \":\"863\"\n",
    "    },\n",
    "    \"Lolita\": \n",
    "    {\n",
    "        \"Author\":\"Vladimir Nabokov\",\n",
    "        \"Publisher\": \"Olympia Press\",\n",
    "        \"Publication date\": \"1955\",\n",
    "        \"Total Pages \":\"336\"\n",
    "        \n",
    "    }\n",
    "}\n",
    "input_book_name = input(\"Enter Your Book Name = \")\n",
    "\n",
    "def find_book(input_book_name):\n",
    "    flag = False \n",
    "    for book_key,book_values in book_details.items():\n",
    "        if book_key == input_book_name:\n",
    "            flag =  True\n",
    "            break\n",
    "    if(flag):            \n",
    "        print(\"\\nThanks for your input here is the details of your provided book name\\n----------------------------------------------\\n\")\n",
    "        print(str(book_key) + \" \" + str(book_values) )\n",
    "    else:\n",
    "        print(\"Thanks for your input but \"+ input_book_name +\" not available on store\")    \n",
    "    \n",
    "            \n",
    "find_book(input_book_name)\n"
   ]
  },
  {
   "cell_type": "code",
   "execution_count": 6,
   "metadata": {},
   "outputs": [
    {
     "name": "stdout",
     "output_type": "stream",
     "text": [
      "WELCOME HERE TO CHECK YOUR LUCK\n",
      "Enter One Number which is between 1 to 30 13\n",
      "Random Number is generated 13 and Your number is 13\n",
      "Enter One Number which is between 1 to 30 19\n",
      "Random Number is generated 15 and Your number is 19\n",
      "Enter One Number which is between 1 to 30 3\n",
      "Random Number is generated 24 and Your number is 3\n",
      "Your total score is 10\n"
     ]
    }
   ],
   "source": [
    "import random\n",
    "print(\"WELCOME HERE TO CHECK YOUR LUCK\")\n",
    "total_score = 0\n",
    "Flag = False\n",
    "for x in range(0,3):\n",
    "    number = random.randint(1, 30)\n",
    "    user_number =input(\"Enter One Number which is between 1 to 30 \")\n",
    "    if  str(user_number) == str(number):\n",
    "        total_score += 10\n",
    "        Flag = True\n",
    "    if(Flag):\n",
    "        print(\"Random Number is generated \" + str(number) + \" and Your number is \"+ str(user_number))\n",
    "        \n",
    "    else:\n",
    "        print(\"Your input is wrong and the random number was \" + str(number))\n",
    "print(\"Your total score is \" + str(total_score))\n"
   ]
  },
  {
   "cell_type": "code",
   "execution_count": null,
   "metadata": {},
   "outputs": [],
   "source": []
  }
 ],
 "metadata": {
  "kernelspec": {
   "display_name": "Python 3",
   "language": "python",
   "name": "python3"
  },
  "language_info": {
   "codemirror_mode": {
    "name": "ipython",
    "version": 3
   },
   "file_extension": ".py",
   "mimetype": "text/x-python",
   "name": "python",
   "nbconvert_exporter": "python",
   "pygments_lexer": "ipython3",
   "version": "3.7.4"
  }
 },
 "nbformat": 4,
 "nbformat_minor": 2
}
