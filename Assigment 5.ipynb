{
 "cells": [
  {
   "cell_type": "code",
   "execution_count": 1,
   "metadata": {},
   "outputs": [
    {
     "name": "stdout",
     "output_type": "stream",
     "text": [
      "Input a number to compute the factiorial : 7\n",
      "5040\n"
     ]
    }
   ],
   "source": [
    "def factorial(n):\n",
    "    if n == 0:\n",
    "        return 1\n",
    "    else:\n",
    "        return n * factorial(n-1)\n",
    "nmbr = int(input(\"Input a number to compute the factiorial : \"))\n",
    "print(factorial(nmbr))\n"
   ]
  },
  {
   "cell_type": "code",
   "execution_count": 2,
   "metadata": {},
   "outputs": [
    {
     "name": "stdout",
     "output_type": "stream",
     "text": [
      "enter the string : Faizan Tahir Hussain\n",
      "No. of Upper case characters :  3\n",
      "No. of Lower case Characters :  15\n"
     ]
    }
   ],
   "source": [
    "def string_test(s):\n",
    "    d={\"UPPER_CASE\":0, \"LOWER_CASE\":0}\n",
    "    for c in s:\n",
    "        if c.isupper():\n",
    "           d[\"UPPER_CASE\"]+=1\n",
    "        elif c.islower():\n",
    "           d[\"LOWER_CASE\"]+=1\n",
    "        else:\n",
    "           pass\n",
    "    \n",
    "    print (\"No. of Upper case characters : \", d[\"UPPER_CASE\"])\n",
    "    print (\"No. of Lower case Characters : \", d[\"LOWER_CASE\"])\n",
    "\n",
    "enter = input(\"enter the string : \")\n",
    "string_test(enter)"
   ]
  },
  {
   "cell_type": "code",
   "execution_count": 3,
   "metadata": {},
   "outputs": [
    {
     "name": "stdout",
     "output_type": "stream",
     "text": [
      "2 4 6 8 0 22 44 66 88 "
     ]
    }
   ],
   "source": [
    "list1 = [1,2,3,4,5,6,7,8,9,0,213,22,44,5,66,77,88,99]\n",
    "for num in list1:\n",
    "    if num %2 ==0:\n",
    "        print(num, end =\" \")\n",
    "        "
   ]
  },
  {
   "cell_type": "code",
   "execution_count": 4,
   "metadata": {},
   "outputs": [
    {
     "name": "stdout",
     "output_type": "stream",
     "text": [
      "enter the string :Madam\n",
      "No enter input is string is palindrome\n"
     ]
    }
   ],
   "source": [
    "def isPalindrome(s): \n",
    "           \n",
    "    rev = ''.join(reversed(s)) \n",
    "    if (s == rev): \n",
    "        return True\n",
    "    return False\n",
    "  \n",
    "s = input(\"enter the string :\")\n",
    "ans = isPalindrome(s) \n",
    "  \n",
    "if (ans): \n",
    "    print(\"Yes enter input is string is palindrome\") \n",
    "else: \n",
    "    print(\"No enter input is string is palindrome\") \n",
    "    "
   ]
  },
  {
   "cell_type": "code",
   "execution_count": 5,
   "metadata": {},
   "outputs": [
    {
     "name": "stdout",
     "output_type": "stream",
     "text": [
      "enter the number : 11\n",
      "number is prime\n"
     ]
    }
   ],
   "source": [
    "def test_prime(n):\n",
    "    if (n==1):\n",
    "        return False\n",
    "    elif (n==2):\n",
    "        return True;\n",
    "    else:\n",
    "        for x in range(2,n):\n",
    "            if(n % x==0):\n",
    "                return \"number is not prime\"\n",
    "        return \"number is prime\"             \n",
    "\n",
    "    \n",
    "nmbr = int(input(\"enter the number : \"))    \n",
    "print(test_prime(nmbr))\n"
   ]
  },
  {
   "cell_type": "code",
   "execution_count": 6,
   "metadata": {},
   "outputs": [
    {
     "name": "stdout",
     "output_type": "stream",
     "text": [
      "Enter your budget : 2000\n",
      "1.ADD\n",
      "2.EXIT\n",
      "Enter your choice : 1\n",
      "Enter product name : Rice\n",
      "Enter quantity : 2 kg\n",
      "Enter price of the product : 1600\n",
      "\n",
      "amount left 400.0\n",
      "1.ADD\n",
      "2.EXIT\n",
      "Enter your choice : 1\n",
      "Enter product name : soap\n",
      "Enter quantity : 1\n",
      "Enter price of the product : 50\n",
      "\n",
      "amount left 350.0\n",
      "1.ADD\n",
      "2.EXIT\n",
      "Enter your choice : 1\n",
      "Enter product name : tooth paste\n",
      "Enter quantity : 1\n",
      "Enter price of the product : 250\n",
      "\n",
      "amount left 100.0\n",
      "1.ADD\n",
      "2.EXIT\n",
      "Enter your choice : 1\n",
      "Enter product name : mob card\n",
      "Enter quantity : 1\n",
      "Enter price of the product : 100\n",
      "\n",
      "amount left 0.0\n",
      "1.ADD\n",
      "2.EXIT\n",
      "Enter your choice : 2\n",
      "\n",
      "NO BUDGET\n",
      "\n",
      "Amount left : Rs. 0.0\n",
      "\n",
      "\n",
      "\n",
      "GROCERY LIST\n"
     ]
    },
    {
     "ename": "NameError",
     "evalue": "name 'rangee' is not defined",
     "output_type": "error",
     "traceback": [
      "\u001b[1;31m---------------------------------------------------------------------------\u001b[0m",
      "\u001b[1;31mNameError\u001b[0m                                 Traceback (most recent call last)",
      "\u001b[1;32m<ipython-input-6-43fbc68b4a8c>\u001b[0m in \u001b[0;36m<module>\u001b[1;34m\u001b[0m\n\u001b[0;32m    111\u001b[0m \u001b[1;33m\u001b[0m\u001b[0m\n\u001b[0;32m    112\u001b[0m \u001b[1;31m# print final grocery list\u001b[0m\u001b[1;33m\u001b[0m\u001b[1;33m\u001b[0m\u001b[1;33m\u001b[0m\u001b[0m\n\u001b[1;32m--> 113\u001b[1;33m \u001b[1;32mfor\u001b[0m \u001b[0mi\u001b[0m \u001b[1;32min\u001b[0m \u001b[0mrangee\u001b[0m\u001b[1;33m(\u001b[0m\u001b[0mlen\u001b[0m\u001b[1;33m(\u001b[0m\u001b[0mna\u001b[0m\u001b[1;33m)\u001b[0m\u001b[1;33m)\u001b[0m\u001b[1;33m:\u001b[0m\u001b[1;33m\u001b[0m\u001b[1;33m\u001b[0m\u001b[0m\n\u001b[0m\u001b[0;32m    114\u001b[0m     \u001b[0mprint\u001b[0m\u001b[1;33m(\u001b[0m\u001b[0mna\u001b[0m\u001b[1;33m[\u001b[0m\u001b[0mi\u001b[0m\u001b[1;33m]\u001b[0m\u001b[1;33m,\u001b[0m \u001b[0mqu\u001b[0m\u001b[1;33m[\u001b[0m\u001b[0mi\u001b[0m\u001b[1;33m]\u001b[0m\u001b[1;33m,\u001b[0m \u001b[0mpr\u001b[0m\u001b[1;33m[\u001b[0m\u001b[0mi\u001b[0m\u001b[1;33m]\u001b[0m\u001b[1;33m)\u001b[0m\u001b[1;33m\u001b[0m\u001b[1;33m\u001b[0m\u001b[0m\n",
      "\u001b[1;31mNameError\u001b[0m: name 'rangee' is not defined"
     ]
    }
   ],
   "source": [
    "while True:  \n",
    "    try: \n",
    "        bg = float(input(\"Enter your budget : \")) \n",
    "        s = bg  \n",
    "    except ValueError: \n",
    "        print(\"PRINT NUMBER AS A AMOUNT\") \n",
    "        continue\n",
    "    else: \n",
    "        break\n",
    "  \n",
    "# price(\"price\") with empty list as their values \n",
    "a ={\"name\":[], \"quant\":[], \"price\":[]} \n",
    "  \n",
    "# converting dictionary to list for further updation \n",
    "b = list(a.values()) \n",
    "  \n",
    "# variable na value of \"name\" from dictionary 'a' \n",
    "na = b[0] \n",
    "  \n",
    "# variable qu value of \"quant\" from dictionary 'a' \n",
    "qu = b[1] \n",
    "  \n",
    "# variable pr value of \"price\" from dictionary 'a' \n",
    "pr = b[2] \n",
    "  \n",
    "# This loop terminates when user select 2.EXIT option when asked \n",
    "# in try it will ask user for an option as an integer (1 or 2)  \n",
    "# if correct then proceed else continue asking options \n",
    "while True: \n",
    "    try: \n",
    "        ch = int(input(\"1.ADD\\n2.EXIT\\nEnter your choice : \")) \n",
    "    except ValueError: \n",
    "        print(\"\\nERROR: Choose only digits from the given option\") \n",
    "        continue\n",
    "    else: \n",
    "        # check the budget is greater than zero and option selected \n",
    "        # by user is 1 i.e. to add an item \n",
    "        if ch == 1 and s>0:        \n",
    "   \n",
    "            # input products name                 \n",
    "            pn = input(\"Enter product name : \")  \n",
    "            # input quantity of product \n",
    "            q = input(\"Enter quantity : \") \n",
    "            # input price of the product \n",
    "            p = float(input(\"Enter price of the product : \"))   \n",
    "  \n",
    "            if p>s: \n",
    "                # checks if price is less than budget \n",
    "                print(\"\\nCAN, T BUT THE PRODUCT\")  \n",
    "                continue\n",
    "  \n",
    "            else: \n",
    "                # checks if product name already in list \n",
    "                if pn in na:   \n",
    "                    # find the index of that product \n",
    "                    ind = na.index(pn)   \n",
    "  \n",
    "                    # remove quantity from \"quant\"  index of the product \n",
    "                    qu.remove(qu[ind])  \n",
    "  \n",
    "                    # remove price from \"price\" index of the product \n",
    "                    pr.remove(pr[ind])   \n",
    "  \n",
    "                    # insert new value given by user earlier \n",
    "                    qu.insert(ind, q)    \n",
    "  \n",
    "                    # insert new value given by user earlier \n",
    "                    pr.insert(ind, p)    \n",
    "  \n",
    "                    # subtracting the price from the budget and assign \n",
    "                    # it to 's' sum(pr) is because pr = [100, 200] if  \n",
    "                    # budget is 500 then s = bg-sum(pr) = 200 \n",
    "                    # after updating for same product at index 0 let \n",
    "                    # pr = [200, 200] so s = 100 \n",
    "                    s = bg-sum(pr)    \n",
    "  \n",
    "                    print(\"\\namount left\", s) \n",
    "                else: \n",
    "                    # append value of in \"name\", \"quantity\", \"price\" \n",
    "                    na.append(pn)   \n",
    "   \n",
    "                    # as na = b[0] it will append all the value in the \n",
    "                    # list eg: \"name\":[\"rice\"] \n",
    "                    qu.append(q)    \n",
    "  \n",
    "                    # same for quantity and price \n",
    "                    pr.append(p)     \n",
    "  \n",
    "                    # after appending new value the sum in price \n",
    "                    # as to be calculated \n",
    "                    s = bg-sum(pr)    \n",
    "  \n",
    "                    print(\"\\namount left\", s) \n",
    "  \n",
    "        # if budget goes zero print \"NO BUDGET\" \n",
    "        elif s<= 0:  \n",
    "            print(\"\\nNO BUDGET\")  \n",
    "            break\n",
    "        else: \n",
    "            break \n",
    "  \n",
    "# will print amount left in variable 's' \n",
    "print(\"\\nAmount left : Rs.\", s)  \n",
    "  \n",
    "# if the amount left equals to any amount in price list \n",
    "if s in pr:  \n",
    "    # then printing the name of the product which can buy \n",
    "    print(\"\\nAmount left can buy you a\", na[pr.index(s)])   \n",
    "  \n",
    "print(\"\\n\\n\\nGROCERY LIST\") \n",
    "  \n",
    "# print final grocery list \n",
    "for i in rangee(len(na)):  \n",
    "    print(na[i], qu[i], pr[i]) "
   ]
  },
  {
   "cell_type": "code",
   "execution_count": null,
   "metadata": {},
   "outputs": [],
   "source": []
  }
 ],
 "metadata": {
  "kernelspec": {
   "display_name": "Python 3",
   "language": "python",
   "name": "python3"
  },
  "language_info": {
   "codemirror_mode": {
    "name": "ipython",
    "version": 3
   },
   "file_extension": ".py",
   "mimetype": "text/x-python",
   "name": "python",
   "nbconvert_exporter": "python",
   "pygments_lexer": "ipython3",
   "version": "3.7.4"
  }
 },
 "nbformat": 4,
 "nbformat_minor": 2
}
